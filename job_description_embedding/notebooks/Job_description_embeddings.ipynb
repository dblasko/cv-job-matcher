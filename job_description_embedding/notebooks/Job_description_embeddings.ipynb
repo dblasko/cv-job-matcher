{
 "cells": [
  {
   "cell_type": "code",
   "execution_count": null,
   "metadata": {},
   "outputs": [],
   "source": [
    "import xml.etree.ElementTree as ET\n",
    "import json\n",
    "\n",
    "def parse_xml(xml_file):\n",
    "    tree = ET.parse(xml_file)\n",
    "    root = tree.getroot()\n",
    "\n",
    "    jobs_list = []\n",
    "\n",
    "    for job in root.findall('job'):\n",
    "        job_dict = {\n",
    "            \"title\": job.find('title').text,\n",
    "            \"company\": job.find('company').text,\n",
    "            \"posted_date\": job.find('posted_date').text,\n",
    "            \"job_reference\": job.find('job_reference').text,\n",
    "            \"req_number\": job.find('req_number').text,\n",
    "            \"url\": job.find('url').text,\n",
    "            \"body\": job.find('body').text,\n",
    "            \"city\": job.find('city').text,\n",
    "            \"state\": job.find('state').text,\n",
    "            \"country\": job.find('country').text,\n",
    "            \"location\": job.find('location').text,\n",
    "            \"function\": job.find('function').text,\n",
    "            \"logo\": job.find('logo').text,\n",
    "            \"jobtype\": job.find('jobtype').text,\n",
    "            \"education\": job.find('education').text,\n",
    "            \"experience\": job.find('experience').text,\n",
    "            \"salary\": job.find('salary').text,\n",
    "            \"requiredlanguages\": job.find('requiredlanguages').text,\n",
    "            \"requiredskills\": job.find('requiredskills').text\n",
    "        }\n",
    "        jobs_list.append(job_dict)\n",
    "        \n",
    "    return jobs_list\n",
    "\n",
    "xml_file = 'job_sample.xml' \n",
    "jobs_list = parse_xml(xml_file)\n",
    "\n",
    "json_output = json.dumps(jobs_list, indent=4)\n",
    "\n",
    "with open('job_openings.json', 'w') as json_file:\n",
    "    json_file.write(json_output)"
   ]
  },
  {
   "cell_type": "code",
   "execution_count": 10,
   "metadata": {},
   "outputs": [
    {
     "name": "stdout",
     "output_type": "stream",
     "text": [
      "1000\n",
      "                                      title         company posted_date  \\\n",
      "0                             Shift Manager   Buffalo Wings     3/10/23   \n",
      "1                       Access Provisioning             CTG      9/7/22   \n",
      "2                             Shift Manager   Buffalo Wings     3/10/23   \n",
      "3                                Dishwasher  Cracker Barrel     4/28/22   \n",
      "4  DIRECTOR OF LABOR RELATIONS (NJ, PA, NY)   Compass Group     1/28/23   \n",
      "\n",
      "   job_reference  req_number  \\\n",
      "0       10794429        3036   \n",
      "1        8625904        3493   \n",
      "2       10798555        3036   \n",
      "3        6989039        4946   \n",
      "4       10251570        3398   \n",
      "\n",
      "                                                 url  \\\n",
      "0  https://www.localjobs.com/job/kissimmee-fl-shi...   \n",
      "1  https://www.localjobs.com/job/san-diego-ca-acc...   \n",
      "2  https://www.localjobs.com/job/bristol-va-shift...   \n",
      "3  https://www.localjobs.com/job/kissimmee-fl-dis...   \n",
      "4  https://www.localjobs.com/job/charlotte-nc-dir...   \n",
      "\n",
      "                                                body       city  \\\n",
      "0  <p>In most jobs, everyone doesn’t spontaneousl...  Kissimmee   \n",
      "1  <p>Access Provisioning</p>\\n<p>United States</...  San Diego   \n",
      "2  <p>In most jobs, everyone doesn’t spontaneousl...    Bristol   \n",
      "3  <p>US-FL-Kissimmee</p>\\n<p>As a kitchen team m...  Kissimmee   \n",
      "4  <p>Compass Corporate </p>\\n<p>Salary: $150K-17...  Charlotte   \n",
      "\n",
      "            state        country                   location  \\\n",
      "0         Florida  United States         Kissimmee, Florida   \n",
      "1      California  United States      San Diego, California   \n",
      "2        Virginia  United States          Bristol, Virginia   \n",
      "3         Florida  United States         Kissimmee, Florida   \n",
      "4  North Carolina  United States  Charlotte, North Carolina   \n",
      "\n",
      "               function                                               logo  \\\n",
      "0  Food Service Manager  https://www.localjobs.com/sites/default/files/...   \n",
      "1     Business Services  https://www.localjobs.com/sites/default/files/...   \n",
      "2  Food Service Manager  https://www.localjobs.com/sites/default/files/...   \n",
      "3          Food Service  https://www.localjobs.com/sites/default/files/...   \n",
      "4          Food Service  https://www.localjobs.com/sites/default/files/...   \n",
      "\n",
      "     jobtype  education  experience  salary  requiredlanguages  requiredskills  \n",
      "0  Full time        NaN         NaN     NaN                NaN             NaN  \n",
      "1  Full time        NaN         NaN     NaN                NaN             NaN  \n",
      "2  Full time        NaN         NaN     NaN                NaN             NaN  \n",
      "3  Full time        NaN         NaN     NaN                NaN             NaN  \n",
      "4  Full time        NaN         NaN     NaN                NaN             NaN  \n"
     ]
    }
   ],
   "source": [
    "import pandas as pd\n",
    "\n",
    "# Replace 'path/to/job_openings.json' with the actual path to your JSON file\n",
    "df = pd.read_json('job_openings.json')\n",
    "\n",
    "# number of rows\n",
    "print(df.shape[0])\n",
    "\n",
    "# Do something with the DataFrame\n",
    "print(df.head())"
   ]
  },
  {
   "cell_type": "code",
   "execution_count": 9,
   "metadata": {},
   "outputs": [
    {
     "name": "stdout",
     "output_type": "stream",
     "text": [
      "title                   0\n",
      "company                 0\n",
      "posted_date             0\n",
      "job_reference           0\n",
      "req_number              0\n",
      "url                     0\n",
      "body                    0\n",
      "city                   27\n",
      "state                  13\n",
      "country                 4\n",
      "location                0\n",
      "function                5\n",
      "logo                    0\n",
      "jobtype                 0\n",
      "education            1000\n",
      "experience           1000\n",
      "salary               1000\n",
      "requiredlanguages    1000\n",
      "requiredskills       1000\n",
      "dtype: int64\n"
     ]
    }
   ],
   "source": [
    "# Get the number of missing values for each column\n",
    "missing_values = df.isnull().sum()\n",
    "\n",
    "# Print the results\n",
    "print(missing_values)"
   ]
  },
  {
   "cell_type": "code",
   "execution_count": 9,
   "metadata": {},
   "outputs": [
    {
     "name": "stdout",
     "output_type": "stream",
     "text": [
      "Aproximate total docs 1000, tokens 755544:\n",
      " 22.66632$ (0.0015$ inp)\n",
      " 36.0$ (0.002$ out, 0.5k tk per doc)\n"
     ]
    }
   ],
   "source": [
    "import json\n",
    "import numpy as np\n",
    "from langchain import PromptTemplate\n",
    "\n",
    "GPT_JOBS_PROMT = PromptTemplate.from_template('{job_description}\\nYou were given a Job description. Create a valid flatt JSON object parsable by json.loads, with the attributes {fields} and fill in their content from this job description. Set the variable to null if the information is not derivable. Reply with just the JSON object, keep the attribute values short and if appropriate in keywords.')\n",
    "\n",
    "with open('../job_openings.json','r') as j:\n",
    "    docs, tokens = np.sum([[1, len((body + GPT_JOBS_PROMT.format(job_description='', fields=' field'*5)).split(' '))] if (body := o['body']) else 0 for o in json.load(j)], axis=0)\n",
    "    tokens_k = tokens/1000\n",
    "    print(f\"Aproximate total docs {docs}, tokens {tokens}:\\n {tokens_k * 0.0015}$ (0.0015$ inp)\\n {docs * 0.6 * 0.002}$ (0.002$ out, 0.5k tk per doc)\")"
   ]
  },
  {
   "cell_type": "code",
   "execution_count": 2,
   "metadata": {},
   "outputs": [],
   "source": [
    "import yaml\n",
    "OPENAI_API_KEY = None\n",
    "with open(\"../../key.yaml\", \"r\") as f:\n",
    "    config = yaml.load(f, Loader=yaml.FullLoader)\n",
    "    OPENAI_API_KEY = config[\"openai_key\"]"
   ]
  },
  {
   "cell_type": "code",
   "execution_count": 20,
   "metadata": {},
   "outputs": [
    {
     "ename": "ValueError",
     "evalue": "Got unknown type ('text', \"Minimum qualifications:\\n\\n\\\\+ Bachelor's degree or equivalent practical experience\\n\\n\\\\+ 15 years of experience working as a technical software engineering leader\\nor 13 years with an advanced degree\\n\\n\\\\+ Experience solving problems, including applying ML to solve problems\\n\\nPreferred qualifications:\\n\\n\\\\+ 20 years of professional experience in software engineering\\n\\n\\\\+ Experience in technical innovation in computer architecture, compiler\\noptimization, or related fields\\n\\n\\\\+ Experience in reasoning and quantifying relative impacts and risks of\\ntechnical work that could require the involvement of multiple engineers\\n\\n\\\\+ Understanding of responsible AI practice and experience in ML technologies\\n\\n\\\\+ Technical experience in systems and software with the leadership skills\\nneeded to influence technical leaders across the company\\n\\n\\\\+ Ability to quickly ramp up in new subject areas with short notice to guide\\nmission-critical research into the largest potential risks related to\\ninfrastructure usage\\n\\nAs the Principal Engineer, Responsible AI, you will lead collaboration with\\nresearch and product areas, to understand the broader Responsible AI space,\\nincluding fairness, explainability, governance, privacy, security, and\\nrobustness. You will drive a technical roadmap across products and align\\nproject plans for measuring and remediate Responsible AI problems for Core ML\\nproducts and solutions. You will engage with research, compliance, and privacy\\nteams to lead the Responsible AI technical roadmap for ML journeys in\\nproduction. You will drive strategic technical engagements to drive inclusion\\nand responsibility in Core ML offerings and design, guide, and vet systems\\ndesigns relevant to Responsible AI to ensure the solution is effective in real\\nproduction systems. You will mentor and train other team members on system\\ndesign, machine learning modeling, and coding techniques relevant to the\\nResponsible AI space.\\n\\nThe Core team builds the technical foundation behind Google’s flagship\\nproducts. We are owners and advocates for the underlying design elements,\\ndeveloper platforms, product components, and infrastructure at Google. These\\nare the essential building blocks for excellent, safe, and coherent\\nexperiences for our users and drive the pace of innovation for every\\ndeveloper. We look across Google’s products to build central solutions, break\\ndown technical barriers and strengthen existing systems. As the Core team, we\\nhave a mandate and a unique opportunity to impact important technical\\ndecisions across the company.\\n\\nThe US base salary range for this full-time position is $271,000-$399,000 +\\nbonus + equity + benefits. Our salary ranges are determined by role, level,\\nand location. The range displayed on each job posting reflects the minimum and\\nmaximum target for new hire salaries for the position across all US locations.\\nWithin the range, individual pay is determined by work location and additional\\nfactors, including job-related skills, experience, and relevant education or\\ntraining. Your recruiter can share more about the specific salary range for\\nyour preferred location during the hiring process.\\n\\nPlease note that the compensation details listed in US role postings reflect\\nthe base salary only, and do not include bonus, equity, or benefits. Learn\\nmore about benefits at Google (<https://careers.google.com/benefits/>) .\\n\\n\\\\+ Produce roadmaps across the technical scope, including consulting on\\nobjectives and key results across teams, reviewing designs, participating in\\nand resolving technical discussions, and driving engineering investments for\\nCore ML.\\n\\n\\\\+ Define technical goals and guide teams around technical decisions they can\\nmake, providing development support to engineers in the area. Escalate to\\ndirectors or vice presidents about available team leads, resources, or\\nchallenges in development for the team.\\n\\n\\\\+ Provide leadership in critical situations or situations that require\\ncomplex and immediate triaging, technical problems, other key work, and help\\nmanagers of associated teams understand the larger technical issues\\ncontributing to challenges.\\n\\n\\\\+ Be an executive reviewer for changes or technical decision-making,\\nparticipate in calibration and promotion feedback, and develop/drive decision\\nmaking and technical review processes.\\n\\nGoogle is proud to be an equal opportunity workplace and is an affirmative\\naction employer. We are committed to equal employment opportunity regardless\\nof race, color, ancestry, religion, sex, national origin, sexual orientation,\\nage, citizenship, marital status, disability, gender identity or Veteran\\nstatus. We also consider qualified applicants regardless of criminal\\nhistories, consistent with legal requirements. See also\\n<https://careers.google.com/eeo/> and\\n<https://careers.google.com/jobs/dist/legal/OFCCP_EEO_Post.pdf> If you have a\\nneed that requires accommodation, please let us know by completing our\\nAccommodations for Applicants form: <https://goo.gl/forms/aBt6Pu71i1kzpLHe2>.\\n\\n\\nYou were given a Job description. Create a valid flatt JSON object parsable by json.loads, with the attributes education,experience,salary,requiredlanguages,requiredskills and fill in their content from this job description. Set the variable to null if the information is not derivable. Reply with just the JSON object, keep the attribute values short and if appropriate in keywords.\")",
     "output_type": "error",
     "traceback": [
      "\u001b[0;31m---------------------------------------------------------------------------\u001b[0m",
      "\u001b[0;31mValueError\u001b[0m                                Traceback (most recent call last)",
      "Cell \u001b[0;32mIn[20], line 69\u001b[0m\n\u001b[1;32m     67\u001b[0m \u001b[39mwith\u001b[39;00m \u001b[39mopen\u001b[39m(\u001b[39mf\u001b[39m\u001b[39m'\u001b[39m\u001b[39m../job_openings.json\u001b[39m\u001b[39m'\u001b[39m,\u001b[39m'\u001b[39m\u001b[39mr\u001b[39m\u001b[39m'\u001b[39m) \u001b[39mas\u001b[39;00m j, \u001b[39mopen\u001b[39m(\u001b[39mf\u001b[39m\u001b[39m'\u001b[39m\u001b[39m{\u001b[39;00mjo_path\u001b[39m}\u001b[39;00m\u001b[39m/job_openings_full_\u001b[39m\u001b[39m{\u001b[39;00mpatch\u001b[39m}\u001b[39;00m\u001b[39m.json\u001b[39m\u001b[39m'\u001b[39m, \u001b[39m'\u001b[39m\u001b[39mw\u001b[39m\u001b[39m'\u001b[39m) \u001b[39mas\u001b[39;00m f, \u001b[39mopen\u001b[39m(\u001b[39mf\u001b[39m\u001b[39m'\u001b[39m\u001b[39m{\u001b[39;00mjo_path\u001b[39m}\u001b[39;00m\u001b[39m/job_openings_full_failed_\u001b[39m\u001b[39m{\u001b[39;00mpatch\u001b[39m}\u001b[39;00m\u001b[39m.json\u001b[39m\u001b[39m'\u001b[39m, \u001b[39m'\u001b[39m\u001b[39mw\u001b[39m\u001b[39m'\u001b[39m) \u001b[39mas\u001b[39;00m b:\n\u001b[1;32m     68\u001b[0m   jobs \u001b[39m=\u001b[39m json\u001b[39m.\u001b[39mload(j)\n\u001b[0;32m---> 69\u001b[0m   parsed \u001b[39m=\u001b[39m \u001b[39mawait\u001b[39;00m transform_jobs(jobs)\n\u001b[1;32m     70\u001b[0m   json\u001b[39m.\u001b[39mdump([p[\u001b[39m0\u001b[39m] \u001b[39mfor\u001b[39;00m p \u001b[39min\u001b[39;00m parsed], f, indent\u001b[39m=\u001b[39m\u001b[39m4\u001b[39m)\n\u001b[1;32m     71\u001b[0m   b\u001b[39m.\u001b[39mwritelines(\u001b[39mf\u001b[39m\u001b[39m'\u001b[39m\u001b[39m{\u001b[39;00mjson\u001b[39m.\u001b[39mdumps([p,\u001b[39m \u001b[39mt])\u001b[39m}\u001b[39;00m\u001b[39m\\n\u001b[39;00m\u001b[39m'\u001b[39m \u001b[39mfor\u001b[39;00m p,t \u001b[39min\u001b[39;00m parsed \u001b[39mif\u001b[39;00m t \u001b[39mis\u001b[39;00m \u001b[39mnot\u001b[39;00m \u001b[39mNone\u001b[39;00m)\n",
      "Cell \u001b[0;32mIn[20], line 62\u001b[0m, in \u001b[0;36mtransform_jobs\u001b[0;34m(jobs, fields)\u001b[0m\n\u001b[1;32m     57\u001b[0m \u001b[39masync\u001b[39;00m \u001b[39mdef\u001b[39;00m \u001b[39mtransform_jobs\u001b[39m(jobs, fields\u001b[39m=\u001b[39m[\u001b[39m'\u001b[39m\u001b[39meducation\u001b[39m\u001b[39m'\u001b[39m, \u001b[39m'\u001b[39m\u001b[39mexperience\u001b[39m\u001b[39m'\u001b[39m, \u001b[39m'\u001b[39m\u001b[39msalary\u001b[39m\u001b[39m'\u001b[39m, \u001b[39m'\u001b[39m\u001b[39mrequiredlanguages\u001b[39m\u001b[39m'\u001b[39m, \u001b[39m'\u001b[39m\u001b[39mrequiredskills\u001b[39m\u001b[39m'\u001b[39m]):\n\u001b[1;32m     58\u001b[0m   tasks \u001b[39m=\u001b[39m [\n\u001b[1;32m     59\u001b[0m     parse_fields(i, fields\u001b[39m=\u001b[39m[k \u001b[39mfor\u001b[39;00m k, v \u001b[39min\u001b[39;00m i\u001b[39m.\u001b[39mitems() \u001b[39mif\u001b[39;00m v \u001b[39mis\u001b[39;00m \u001b[39mNone\u001b[39;00m \u001b[39mand\u001b[39;00m k \u001b[39min\u001b[39;00m fields])\n\u001b[1;32m     60\u001b[0m     \u001b[39mfor\u001b[39;00m i \u001b[39min\u001b[39;00m jobs[\u001b[39m650\u001b[39m:\u001b[39m750\u001b[39m]\n\u001b[1;32m     61\u001b[0m   ]\n\u001b[0;32m---> 62\u001b[0m   \u001b[39mreturn\u001b[39;00m [(\u001b[39mdict\u001b[39m(j, \u001b[39m*\u001b[39m\u001b[39m*\u001b[39mi), t) \u001b[39mfor\u001b[39;00m j, i, t \u001b[39min\u001b[39;00m \u001b[39mawait\u001b[39;00m asyncio\u001b[39m.\u001b[39mgather(\u001b[39m*\u001b[39mtasks)]\n",
      "Cell \u001b[0;32mIn[20], line 49\u001b[0m, in \u001b[0;36mparse_fields\u001b[0;34m(job, fields)\u001b[0m\n\u001b[1;32m     47\u001b[0m job_body \u001b[39m=\u001b[39m job[\u001b[39m'\u001b[39m\u001b[39mbody\u001b[39m\u001b[39m'\u001b[39m]\n\u001b[1;32m     48\u001b[0m prompt \u001b[39m=\u001b[39m GPT_JOBS_PROMT\u001b[39m.\u001b[39mformat_prompt(fields\u001b[39m=\u001b[39m\u001b[39m'\u001b[39m\u001b[39m,\u001b[39m\u001b[39m'\u001b[39m\u001b[39m.\u001b[39mjoin(fields), job_description\u001b[39m=\u001b[39m\u001b[39mf\u001b[39m\u001b[39m'\u001b[39m\u001b[39m{\u001b[39;00mhtml2text\u001b[39m.\u001b[39mhtml2text(job_body\u001b[39m \u001b[39m\u001b[39mif\u001b[39;00m\u001b[39m \u001b[39mjob_body\u001b[39m \u001b[39m\u001b[39melse\u001b[39;00m\u001b[39m \u001b[39m\u001b[39m\"\u001b[39m\u001b[39m\"\u001b[39m)\u001b[39m}\u001b[39;00m\u001b[39m'\u001b[39m)\n\u001b[0;32m---> 49\u001b[0m response \u001b[39m=\u001b[39m \u001b[39mawait\u001b[39;00m llm\u001b[39m.\u001b[39magenerate([prompt])\n\u001b[1;32m     50\u001b[0m \u001b[39mprint\u001b[39m(\u001b[39mf\u001b[39m\u001b[39m'\u001b[39m\u001b[39mTtokens: \u001b[39m\u001b[39m{\u001b[39;00m\u001b[39mlen\u001b[39m(prompt\u001b[39m.\u001b[39msplit(\u001b[39m\"\u001b[39m\u001b[39m \u001b[39m\u001b[39m\"\u001b[39m))\u001b[39m}\u001b[39;00m\u001b[39m \u001b[39m\u001b[39m{\u001b[39;00m\u001b[39mlen\u001b[39m(response\u001b[39m.\u001b[39mgenerations[\u001b[39m0\u001b[39m][\u001b[39m0\u001b[39m]\u001b[39m.\u001b[39mtext\u001b[39m.\u001b[39msplit(\u001b[39m\"\u001b[39m\u001b[39m \u001b[39m\u001b[39m\"\u001b[39m))\u001b[39m}\u001b[39;00m\u001b[39m'\u001b[39m)\n\u001b[1;32m     51\u001b[0m \u001b[39mtry\u001b[39;00m:\n",
      "File \u001b[0;32m~/.python/current/lib/python3.10/site-packages/langchain/chat_models/base.py:150\u001b[0m, in \u001b[0;36mBaseChatModel.agenerate\u001b[0;34m(self, messages, stop, callbacks, tags, **kwargs)\u001b[0m\n\u001b[1;32m    148\u001b[0m \u001b[39mexcept\u001b[39;00m (\u001b[39mKeyboardInterrupt\u001b[39;00m, \u001b[39mException\u001b[39;00m) \u001b[39mas\u001b[39;00m e:\n\u001b[1;32m    149\u001b[0m     \u001b[39mawait\u001b[39;00m run_manager\u001b[39m.\u001b[39mon_llm_error(e)\n\u001b[0;32m--> 150\u001b[0m     \u001b[39mraise\u001b[39;00m e\n\u001b[1;32m    151\u001b[0m llm_output \u001b[39m=\u001b[39m \u001b[39mself\u001b[39m\u001b[39m.\u001b[39m_combine_llm_outputs([res\u001b[39m.\u001b[39mllm_output \u001b[39mfor\u001b[39;00m res \u001b[39min\u001b[39;00m results])\n\u001b[1;32m    152\u001b[0m generations \u001b[39m=\u001b[39m [res\u001b[39m.\u001b[39mgenerations \u001b[39mfor\u001b[39;00m res \u001b[39min\u001b[39;00m results]\n",
      "File \u001b[0;32m~/.python/current/lib/python3.10/site-packages/langchain/chat_models/base.py:140\u001b[0m, in \u001b[0;36mBaseChatModel.agenerate\u001b[0;34m(self, messages, stop, callbacks, tags, **kwargs)\u001b[0m\n\u001b[1;32m    136\u001b[0m new_arg_supported \u001b[39m=\u001b[39m inspect\u001b[39m.\u001b[39msignature(\u001b[39mself\u001b[39m\u001b[39m.\u001b[39m_agenerate)\u001b[39m.\u001b[39mparameters\u001b[39m.\u001b[39mget(\n\u001b[1;32m    137\u001b[0m     \u001b[39m\"\u001b[39m\u001b[39mrun_manager\u001b[39m\u001b[39m\"\u001b[39m\n\u001b[1;32m    138\u001b[0m )\n\u001b[1;32m    139\u001b[0m \u001b[39mtry\u001b[39;00m:\n\u001b[0;32m--> 140\u001b[0m     results \u001b[39m=\u001b[39m \u001b[39mawait\u001b[39;00m asyncio\u001b[39m.\u001b[39mgather(\n\u001b[1;32m    141\u001b[0m         \u001b[39m*\u001b[39m[\n\u001b[1;32m    142\u001b[0m             \u001b[39mself\u001b[39m\u001b[39m.\u001b[39m_agenerate(m, stop\u001b[39m=\u001b[39mstop, run_manager\u001b[39m=\u001b[39mrun_manager, \u001b[39m*\u001b[39m\u001b[39m*\u001b[39mkwargs)\n\u001b[1;32m    143\u001b[0m             \u001b[39mif\u001b[39;00m new_arg_supported\n\u001b[1;32m    144\u001b[0m             \u001b[39melse\u001b[39;00m \u001b[39mself\u001b[39m\u001b[39m.\u001b[39m_agenerate(m, stop\u001b[39m=\u001b[39mstop)\n\u001b[1;32m    145\u001b[0m             \u001b[39mfor\u001b[39;00m m \u001b[39min\u001b[39;00m messages\n\u001b[1;32m    146\u001b[0m         ]\n\u001b[1;32m    147\u001b[0m     )\n\u001b[1;32m    148\u001b[0m \u001b[39mexcept\u001b[39;00m (\u001b[39mKeyboardInterrupt\u001b[39;00m, \u001b[39mException\u001b[39;00m) \u001b[39mas\u001b[39;00m e:\n\u001b[1;32m    149\u001b[0m     \u001b[39mawait\u001b[39;00m run_manager\u001b[39m.\u001b[39mon_llm_error(e)\n",
      "File \u001b[0;32m~/.python/current/lib/python3.10/site-packages/langchain/chat_models/openai.py:389\u001b[0m, in \u001b[0;36mChatOpenAI._agenerate\u001b[0;34m(self, messages, stop, run_manager, **kwargs)\u001b[0m\n\u001b[1;32m    382\u001b[0m \u001b[39masync\u001b[39;00m \u001b[39mdef\u001b[39;00m \u001b[39m_agenerate\u001b[39m(\n\u001b[1;32m    383\u001b[0m     \u001b[39mself\u001b[39m,\n\u001b[1;32m    384\u001b[0m     messages: List[BaseMessage],\n\u001b[0;32m   (...)\u001b[0m\n\u001b[1;32m    387\u001b[0m     \u001b[39m*\u001b[39m\u001b[39m*\u001b[39mkwargs: Any,\n\u001b[1;32m    388\u001b[0m ) \u001b[39m-\u001b[39m\u001b[39m>\u001b[39m ChatResult:\n\u001b[0;32m--> 389\u001b[0m     message_dicts, params \u001b[39m=\u001b[39m \u001b[39mself\u001b[39;49m\u001b[39m.\u001b[39;49m_create_message_dicts(messages, stop)\n\u001b[1;32m    390\u001b[0m     params \u001b[39m=\u001b[39m {\u001b[39m*\u001b[39m\u001b[39m*\u001b[39mparams, \u001b[39m*\u001b[39m\u001b[39m*\u001b[39mkwargs}\n\u001b[1;32m    391\u001b[0m     \u001b[39mif\u001b[39;00m \u001b[39mself\u001b[39m\u001b[39m.\u001b[39mstreaming:\n",
      "File \u001b[0;32m~/.python/current/lib/python3.10/site-packages/langchain/chat_models/openai.py:370\u001b[0m, in \u001b[0;36mChatOpenAI._create_message_dicts\u001b[0;34m(self, messages, stop)\u001b[0m\n\u001b[1;32m    368\u001b[0m         \u001b[39mraise\u001b[39;00m \u001b[39mValueError\u001b[39;00m(\u001b[39m\"\u001b[39m\u001b[39m`stop` found in both the input and default params.\u001b[39m\u001b[39m\"\u001b[39m)\n\u001b[1;32m    369\u001b[0m     params[\u001b[39m\"\u001b[39m\u001b[39mstop\u001b[39m\u001b[39m\"\u001b[39m] \u001b[39m=\u001b[39m stop\n\u001b[0;32m--> 370\u001b[0m message_dicts \u001b[39m=\u001b[39m [_convert_message_to_dict(m) \u001b[39mfor\u001b[39;00m m \u001b[39min\u001b[39;00m messages]\n\u001b[1;32m    371\u001b[0m \u001b[39mreturn\u001b[39;00m message_dicts, params\n",
      "File \u001b[0;32m~/.python/current/lib/python3.10/site-packages/langchain/chat_models/openai.py:370\u001b[0m, in \u001b[0;36m<listcomp>\u001b[0;34m(.0)\u001b[0m\n\u001b[1;32m    368\u001b[0m         \u001b[39mraise\u001b[39;00m \u001b[39mValueError\u001b[39;00m(\u001b[39m\"\u001b[39m\u001b[39m`stop` found in both the input and default params.\u001b[39m\u001b[39m\"\u001b[39m)\n\u001b[1;32m    369\u001b[0m     params[\u001b[39m\"\u001b[39m\u001b[39mstop\u001b[39m\u001b[39m\"\u001b[39m] \u001b[39m=\u001b[39m stop\n\u001b[0;32m--> 370\u001b[0m message_dicts \u001b[39m=\u001b[39m [_convert_message_to_dict(m) \u001b[39mfor\u001b[39;00m m \u001b[39min\u001b[39;00m messages]\n\u001b[1;32m    371\u001b[0m \u001b[39mreturn\u001b[39;00m message_dicts, params\n",
      "File \u001b[0;32m~/.python/current/lib/python3.10/site-packages/langchain/chat_models/openai.py:133\u001b[0m, in \u001b[0;36m_convert_message_to_dict\u001b[0;34m(message)\u001b[0m\n\u001b[1;32m    127\u001b[0m     message_dict \u001b[39m=\u001b[39m {\n\u001b[1;32m    128\u001b[0m         \u001b[39m\"\u001b[39m\u001b[39mrole\u001b[39m\u001b[39m\"\u001b[39m: \u001b[39m\"\u001b[39m\u001b[39mfunction\u001b[39m\u001b[39m\"\u001b[39m,\n\u001b[1;32m    129\u001b[0m         \u001b[39m\"\u001b[39m\u001b[39mcontent\u001b[39m\u001b[39m\"\u001b[39m: message\u001b[39m.\u001b[39mcontent,\n\u001b[1;32m    130\u001b[0m         \u001b[39m\"\u001b[39m\u001b[39mname\u001b[39m\u001b[39m\"\u001b[39m: message\u001b[39m.\u001b[39mname,\n\u001b[1;32m    131\u001b[0m     }\n\u001b[1;32m    132\u001b[0m \u001b[39melse\u001b[39;00m:\n\u001b[0;32m--> 133\u001b[0m     \u001b[39mraise\u001b[39;00m \u001b[39mValueError\u001b[39;00m(\u001b[39mf\u001b[39m\u001b[39m\"\u001b[39m\u001b[39mGot unknown type \u001b[39m\u001b[39m{\u001b[39;00mmessage\u001b[39m}\u001b[39;00m\u001b[39m\"\u001b[39m)\n\u001b[1;32m    134\u001b[0m \u001b[39mif\u001b[39;00m \u001b[39m\"\u001b[39m\u001b[39mname\u001b[39m\u001b[39m\"\u001b[39m \u001b[39min\u001b[39;00m message\u001b[39m.\u001b[39madditional_kwargs:\n\u001b[1;32m    135\u001b[0m     message_dict[\u001b[39m\"\u001b[39m\u001b[39mname\u001b[39m\u001b[39m\"\u001b[39m] \u001b[39m=\u001b[39m message\u001b[39m.\u001b[39madditional_kwargs[\u001b[39m\"\u001b[39m\u001b[39mname\u001b[39m\u001b[39m\"\u001b[39m]\n",
      "\u001b[0;31mValueError\u001b[0m: Got unknown type ('text', \"Minimum qualifications:\\n\\n\\\\+ Bachelor's degree or equivalent practical experience\\n\\n\\\\+ 15 years of experience working as a technical software engineering leader\\nor 13 years with an advanced degree\\n\\n\\\\+ Experience solving problems, including applying ML to solve problems\\n\\nPreferred qualifications:\\n\\n\\\\+ 20 years of professional experience in software engineering\\n\\n\\\\+ Experience in technical innovation in computer architecture, compiler\\noptimization, or related fields\\n\\n\\\\+ Experience in reasoning and quantifying relative impacts and risks of\\ntechnical work that could require the involvement of multiple engineers\\n\\n\\\\+ Understanding of responsible AI practice and experience in ML technologies\\n\\n\\\\+ Technical experience in systems and software with the leadership skills\\nneeded to influence technical leaders across the company\\n\\n\\\\+ Ability to quickly ramp up in new subject areas with short notice to guide\\nmission-critical research into the largest potential risks related to\\ninfrastructure usage\\n\\nAs the Principal Engineer, Responsible AI, you will lead collaboration with\\nresearch and product areas, to understand the broader Responsible AI space,\\nincluding fairness, explainability, governance, privacy, security, and\\nrobustness. You will drive a technical roadmap across products and align\\nproject plans for measuring and remediate Responsible AI problems for Core ML\\nproducts and solutions. You will engage with research, compliance, and privacy\\nteams to lead the Responsible AI technical roadmap for ML journeys in\\nproduction. You will drive strategic technical engagements to drive inclusion\\nand responsibility in Core ML offerings and design, guide, and vet systems\\ndesigns relevant to Responsible AI to ensure the solution is effective in real\\nproduction systems. You will mentor and train other team members on system\\ndesign, machine learning modeling, and coding techniques relevant to the\\nResponsible AI space.\\n\\nThe Core team builds the technical foundation behind Google’s flagship\\nproducts. We are owners and advocates for the underlying design elements,\\ndeveloper platforms, product components, and infrastructure at Google. These\\nare the essential building blocks for excellent, safe, and coherent\\nexperiences for our users and drive the pace of innovation for every\\ndeveloper. We look across Google’s products to build central solutions, break\\ndown technical barriers and strengthen existing systems. As the Core team, we\\nhave a mandate and a unique opportunity to impact important technical\\ndecisions across the company.\\n\\nThe US base salary range for this full-time position is $271,000-$399,000 +\\nbonus + equity + benefits. Our salary ranges are determined by role, level,\\nand location. The range displayed on each job posting reflects the minimum and\\nmaximum target for new hire salaries for the position across all US locations.\\nWithin the range, individual pay is determined by work location and additional\\nfactors, including job-related skills, experience, and relevant education or\\ntraining. Your recruiter can share more about the specific salary range for\\nyour preferred location during the hiring process.\\n\\nPlease note that the compensation details listed in US role postings reflect\\nthe base salary only, and do not include bonus, equity, or benefits. Learn\\nmore about benefits at Google (<https://careers.google.com/benefits/>) .\\n\\n\\\\+ Produce roadmaps across the technical scope, including consulting on\\nobjectives and key results across teams, reviewing designs, participating in\\nand resolving technical discussions, and driving engineering investments for\\nCore ML.\\n\\n\\\\+ Define technical goals and guide teams around technical decisions they can\\nmake, providing development support to engineers in the area. Escalate to\\ndirectors or vice presidents about available team leads, resources, or\\nchallenges in development for the team.\\n\\n\\\\+ Provide leadership in critical situations or situations that require\\ncomplex and immediate triaging, technical problems, other key work, and help\\nmanagers of associated teams understand the larger technical issues\\ncontributing to challenges.\\n\\n\\\\+ Be an executive reviewer for changes or technical decision-making,\\nparticipate in calibration and promotion feedback, and develop/drive decision\\nmaking and technical review processes.\\n\\nGoogle is proud to be an equal opportunity workplace and is an affirmative\\naction employer. We are committed to equal employment opportunity regardless\\nof race, color, ancestry, religion, sex, national origin, sexual orientation,\\nage, citizenship, marital status, disability, gender identity or Veteran\\nstatus. We also consider qualified applicants regardless of criminal\\nhistories, consistent with legal requirements. See also\\n<https://careers.google.com/eeo/> and\\n<https://careers.google.com/jobs/dist/legal/OFCCP_EEO_Post.pdf> If you have a\\nneed that requires accommodation, please let us know by completing our\\nAccommodations for Applicants form: <https://goo.gl/forms/aBt6Pu71i1kzpLHe2>.\\n\\n\\nYou were given a Job description. Create a valid flatt JSON object parsable by json.loads, with the attributes education,experience,salary,requiredlanguages,requiredskills and fill in their content from this job description. Set the variable to null if the information is not derivable. Reply with just the JSON object, keep the attribute values short and if appropriate in keywords.\")"
     ]
    }
   ],
   "source": [
    "import os\n",
    "import html2text\n",
    "from langchain.llms import OpenAI\n",
    "from langchain.chat_models import ChatOpenAI\n",
    "from langchain.llms.fake import FakeListLLM\n",
    "import html2text\n",
    "import re\n",
    "import asyncio\n",
    "\n",
    "REPARSE_JOBS = True\n",
    "MAX_RESPONSE_TOKENS = 600\n",
    "\n",
    "llm =  FakeListLLM(responses=[\n",
    "    \"\"\"{\n",
    "  \"education\": null,\n",
    "  \"experience\": \"Preferably, you have 2 years of restaurant or bar experience.\",\n",
    "  \"salary\": null,\n",
    "  \"requiredlanguages\": null,\n",
    "  \"requiredskills\": \"Exceptional time management, attention to detail, and guest service skills.\"\n",
    "}\"\"\",\n",
    "\"\"\"{\n",
    "  \"education\": \"Bachelors degree or equivalent real-life experience\",\n",
    "  \"experience\": \"3+ years of IAM Experience\\\\n3+ years of IT experience\",\n",
    "  \"salary\": null,\n",
    "  \"requiredlanguages\": null,\n",
    "  \"requiredskills\": [\n",
    "    \"Understanding of core IT service and support practices\",\n",
    "    \"High degree of integrity and trust along with the ability to work independently\",\n",
    "    \"Strong policy and process knowledge, IT auditing skills and expertise to deal with a variety of technologies and customers\",\n",
    "    \"Ability to identify security risks and escalate where appropriate\",\n",
    "    \"Demonstrated exceptional organization, troubleshooting and documentation skills\",\n",
    "    \"Proven interpersonal and consultative skills to achieve security goals including ability to communicate well with IT teams and customer, both written and verbally\",\n",
    "    \"Working knowledge of ITIL processes (Foundations certification preferred)\",\n",
    "    \"Experience with IT Service Management Tools (ServiceNow preferred)\",\n",
    "    \"Experience administering the following: Active Directory, Quest Active Roles, Quest Change Auditor, LDAP, SAP, RSA\",\n",
    "    \"Intermediate level PowerShell and scripting skills\"\n",
    "  ]\n",
    "}\n",
    "\"\"\",\n",
    "'\\n\\n{\\n    \"education\": \"MD with additional training in one or more of the following areas: infectious disease, public health, epidemiology, vaccinology, clinical development, or closely related field\",\\n    \"experience\": \"At least 5 years of experience in a relevant field such as vaccinology, epidemiology, infectious diseases, or public health\",\\n    \"salary\": \"The annual base salary for this position ranges from $219,600.00 to $365,800.00.\",\\n    \"requiredlanguages\": \"Fluent in English writing, reading, speaking\",\\n    \"requiredskills\": \"Ability to discuss scientific aspects of vaccines such as development, safety, implementation, decision-making processes, etc., Scientific expertise as demonstrated by lead or senior authorship of at least 5 peer-reviewed publications in English, Expertise in vaccines and immunization programs with an established international KOL network; maternal immunization program experience highly preferred, strong interpersonal skills, demonstrated strong work ethic, and proven track record of delivering high quality products within timelines\"\\n}'\n",
    "])\n",
    "\n",
    "llm = ChatOpenAI(openai_api_key=OPENAI_API_KEY, max_tokens=MAX_RESPONSE_TOKENS, model='gpt-3.5-turbo')\n",
    "\n",
    "async def parse_fields(job, fields):\n",
    "  job_body = job['body']\n",
    "  prompt = GPT_JOBS_PROMT.format_prompt(fields=','.join(fields), job_description=f'{html2text.html2text(job_body if job_body else \"\")}')\n",
    "  response = await llm.agenerate([prompt])\n",
    "  print(f'Ttokens: {len(prompt.split(\" \"))} {len(response.generations[0][0].text.split(\" \"))}')\n",
    "  try:\n",
    "    return job, json.loads(re.sub(r\"(?<=\\w)\\n(?=\\w)\", \"\\\\\\\\n\", response.generations[0][0].text)), None\n",
    "  except:\n",
    "    print(f'Couldn\\'t parse:\\n{response.generations[0][0].text}')\n",
    "    return job, {}, response.generations[0][0].text\n",
    "\n",
    "async def transform_jobs(jobs, fields=['education', 'experience', 'salary', 'requiredlanguages', 'requiredskills']):\n",
    "  tasks = [\n",
    "    parse_fields(i, fields=[k for k, v in i.items() if v is None and k in fields])\n",
    "    for i in jobs[650:750]\n",
    "  ]\n",
    "  return [(dict(j, **i), t) for j, i, t in await asyncio.gather(*tasks)]\n",
    "\n",
    "if not os.path.exists('../job_openings_full.json') or REPARSE_JOBS:\n",
    "  patch = '650_750'\n",
    "  jo_path = '../job_openings'\n",
    "  with open(f'../job_openings.json','r') as j, open(f'{jo_path}/job_openings_full_{patch}.json', 'w') as f, open(f'{jo_path}/job_openings_full_failed_{patch}.json', 'w') as b:\n",
    "    jobs = json.load(j)\n",
    "    parsed = await transform_jobs(jobs)\n",
    "    json.dump([p[0] for p in parsed], f, indent=4)\n",
    "    b.writelines(f'{json.dumps([p, t])}\\n' for p,t in parsed if t is not None)\n",
    "\n"
   ]
  },
  {
   "cell_type": "code",
   "execution_count": null,
   "metadata": {},
   "outputs": [],
   "source": []
  },
  {
   "cell_type": "code",
   "execution_count": null,
   "metadata": {},
   "outputs": [],
   "source": [
    "\n",
    "from langchain.embeddings import HuggingFaceEmbeddings\n",
    "import json\n",
    "import faiss\n",
    "\n",
    "with open('../job_openings.json', 'r') as f:\n",
    "    data = json.load(f)\n",
    "\n",
    "embeddings = HuggingFaceEmbeddings()\n",
    "# Loop over the objects and create a string for each one\n",
    "strings = []\n",
    "for obj in data:\n",
    "    string = json.dumps(obj)\n",
    "\n",
    "    strings.append(string)\n",
    "\n",
    "doc_result = embeddings.embed_documents(strings)\n",
    "\n"
   ]
  },
  {
   "cell_type": "code",
   "execution_count": 12,
   "metadata": {},
   "outputs": [],
   "source": [
    "index = faiss.index_factory(len(doc_result[0]), \"Flat\")\n",
    "index.train(doc_result)\n",
    "index.add(doc_result)"
   ]
  },
  {
   "cell_type": "code",
   "execution_count": 14,
   "metadata": {},
   "outputs": [],
   "source": [
    "import numpy as np\n",
    "query_result = embeddings.embed_query(\"software engineer\")\n",
    "distances, neighbors = index.search(query_result.reshape(1,-1).astype(np.float32), k=5)"
   ]
  },
  {
   "cell_type": "code",
   "execution_count": 16,
   "metadata": {},
   "outputs": [
    {
     "name": "stdout",
     "output_type": "stream",
     "text": [
      "{\"title\": \"Application Developer - Junior\", \"company\": \"CTG\", \"posted_date\": \"4/5/23\", \"job_reference\": \"11052592\", \"req_number\": \"3493\", \"url\": \"https://www.localjobs.com/job/indianapolis-in-application-developer-junior\", \"body\": \"<p>Application Developer - Junior</p>\\n<p>United States</p>\\n<p>Information Technology</p>\\n<p>Apr 05, 2023Post Date</p>\\n<p>23200577Requisition #</p>\\n<p>Apply for JobShare this JobSign Up for Job Alerts</p>\\n<p>Also known as: System Engineer, Programmer, System Analyst</p>\\n<p>TYPICAL WORK PERFORMED:</p>\\n<p>> Designs or assists in the design of applications including mobile applications</p>\\n<p>> Creates, and/or modifies existing applications</p>\\n<p>> Plans, prepares & analyzes unit tests to detect technical or logic errors</p>\\n<p>> Develops test data. Tests modules and analyzes results. Verifies validity of new or modified systems.</p>\\n<p>> Analyzes tasks and provides accurate estimates for level of effort required to complete</p>\\n<p>> Assists, reviews, and provides recommendations on functional and technical requirement specifications.</p>\\n<p>> Assists with data conversion.</p>\\n<p>> Assists with the acquisition of application software and hardware.</p>\\n<p>> Contacts vendors regarding services, training, and support.</p>\\n<p>> Troubleshoots and develops solutions for systems.</p>\\n<p>> Addresses complex problems and describes solutions graphically.</p>\\n<p>> Prepares clear, concise reports for final review.</p>\\n<p>> Documents modules and applications.</p>\\n<p>> Participates in meetings or discussion groups.</p>\\n<p>> Interacts with MOA\\u2019s technical staff.</p>\\n<p>> Provide general commercially available off the shelf application support, troubleshooting, and issue resolution</p>\\n<p>> Work closely with business analysts to provide solutions</p>\\n<p>Under direction of the IT department, work directly with municipal departments to provide for the enhancement of enterprise applications. Document, plan, and implement changes to COTS and custom-developed software. Create or modify .NET applications, including ASP.NET Core. Write and update reports, ETL processes, and other queries using the Microsoft SQL Server platform (SSRS / SSIS / T-SQL.) Manage user requests in Azure DevOps and ManageEngine ServiceDesk Plus to plan & execute software releases. Be available to meet with customers and attend regularly scheduled meetings using Microsoft Teams between 8:00 AM and 5:00 PM AKDT, Monday through Friday. Provide regular status reports informing stakeholders of work planned or completed.</p>\\n<p>CTG is a leading provider of digital transformation solutions and services that accelerate clients' project momentum and achievement of their desired IT and business outcomes. Our vision is to be an indispensable partner to our clients and the preferred career destination for digital and technology experts. CTG has operations in North America, South America, Western Europe, and India. For more information, visit <a href=\\\"http://www.ctg.com\\\">www.ctg.com</a>.</p>\\n<p>Our culture is a direct result of the people who work at CTG, the values we hold, and the actions we take. In other words, our people are the culture. It's a living, breathing thing that is renewed every day through the ways we engage with each other, our clients, and our communities. Part of our mission is to cultivate a workplace that attracts and develops the best people, reflected by our recognition as a Great Place to Work-certified company across many of our global operations.</p>\\n<p>CTG will consider for employment all qualified applicants including those with criminal histories in a manner consistent with the requirements of all applicable local, state, and federal laws.</p>\\n<p>CTG is an Equal Opportunity and Affirmative Action Employer. CTG will assure equal opportunity and consideration to all applicants and employees in recruitment, selection, placement, training, benefits, compensation, promotion, transfer, and release of individuals without regard to race, creed, religion, color, national origin, sex, sexual orientation, gender identity and gender expression, age, disability, marital or veteran status, citizenship status, or any other discriminatory factors as required by law. Our Affirmative Action program serves to promote occupational equality and diversity through good faith efforts. CTG is fully committed to promoting employment opportunities for members of protected classes.</p>\\n<p>Additional Information </p>\\n<p>* Job Function: Programming & Application Development </p>\\n<p>* Education Level: None </p>\\n<p>* Work Remote: Yes </p>\\n<p>* Travel: No</p>\\n\", \"city\": \"Indianapolis\", \"state\": \"Indiana\", \"country\": \"United States\", \"location\": \"Indianapolis, Indiana\", \"function\": \"Business Services\", \"logo\": \"https://www.localjobs.com/sites/default/files/company_logos/logo_22.jpg\", \"jobtype\": \"Full time\", \"education\": null, \"experience\": null, \"salary\": null, \"requiredlanguages\": null, \"requiredskills\": null}\n",
      "{\"title\": \"Application Developer - Junior\", \"company\": \"CTG\", \"posted_date\": \"4/6/23\", \"job_reference\": \"11052206\", \"req_number\": \"3493\", \"url\": \"https://www.localjobs.com/job/grand-junction-co-application-developer-junior\", \"body\": \"<p>Application Developer - Junior</p>\\n<p>United States</p>\\n<p>Information Technology</p>\\n<p>Apr 05, 2023Post Date</p>\\n<p>23200577Requisition #</p>\\n<p>Apply for JobShare this JobSign Up for Job Alerts</p>\\n<p>Also known as: System Engineer, Programmer, System Analyst</p>\\n<p>TYPICAL WORK PERFORMED:</p>\\n<p>> Designs or assists in the design of applications including mobile applications</p>\\n<p>> Creates, and/or modifies existing applications</p>\\n<p>> Plans, prepares & analyzes unit tests to detect technical or logic errors</p>\\n<p>> Develops test data. Tests modules and analyzes results. Verifies validity of new or modified systems.</p>\\n<p>> Analyzes tasks and provides accurate estimates for level of effort required to complete</p>\\n<p>> Assists, reviews, and provides recommendations on functional and technical requirement specifications.</p>\\n<p>> Assists with data conversion.</p>\\n<p>> Assists with the acquisition of application software and hardware.</p>\\n<p>> Contacts vendors regarding services, training, and support.</p>\\n<p>> Troubleshoots and develops solutions for systems.</p>\\n<p>> Addresses complex problems and describes solutions graphically.</p>\\n<p>> Prepares clear, concise reports for final review.</p>\\n<p>> Documents modules and applications.</p>\\n<p>> Participates in meetings or discussion groups.</p>\\n<p>> Interacts with MOA\\u2019s technical staff.</p>\\n<p>> Provide general commercially available off the shelf application support, troubleshooting, and issue resolution</p>\\n<p>> Work closely with business analysts to provide solutions</p>\\n<p>Under direction of the IT department, work directly with municipal departments to provide for the enhancement of enterprise applications. Document, plan, and implement changes to COTS and custom-developed software. Create or modify .NET applications, including ASP.NET Core. Write and update reports, ETL processes, and other queries using the Microsoft SQL Server platform (SSRS / SSIS / T-SQL.) Manage user requests in Azure DevOps and ManageEngine ServiceDesk Plus to plan & execute software releases. Be available to meet with customers and attend regularly scheduled meetings using Microsoft Teams between 8:00 AM and 5:00 PM AKDT, Monday through Friday. Provide regular status reports informing stakeholders of work planned or completed.</p>\\n<p>CTG is a leading provider of digital transformation solutions and services that accelerate clients' project momentum and achievement of their desired IT and business outcomes. Our vision is to be an indispensable partner to our clients and the preferred career destination for digital and technology experts. CTG has operations in North America, South America, Western Europe, and India. For more information, visit <a href=\\\"http://www.ctg.com\\\">www.ctg.com</a>.</p>\\n<p>Our culture is a direct result of the people who work at CTG, the values we hold, and the actions we take. In other words, our people are the culture. It's a living, breathing thing that is renewed every day through the ways we engage with each other, our clients, and our communities. Part of our mission is to cultivate a workplace that attracts and develops the best people, reflected by our recognition as a Great Place to Work-certified company across many of our global operations.</p>\\n<p>CTG will consider for employment all qualified applicants including those with criminal histories in a manner consistent with the requirements of all applicable local, state, and federal laws.</p>\\n<p>CTG is an Equal Opportunity and Affirmative Action Employer. CTG will assure equal opportunity and consideration to all applicants and employees in recruitment, selection, placement, training, benefits, compensation, promotion, transfer, and release of individuals without regard to race, creed, religion, color, national origin, sex, sexual orientation, gender identity and gender expression, age, disability, marital or veteran status, citizenship status, or any other discriminatory factors as required by law. Our Affirmative Action program serves to promote occupational equality and diversity through good faith efforts. CTG is fully committed to promoting employment opportunities for members of protected classes.</p>\\n<p>Additional Information </p>\\n<p>* Job Function: Programming & Application Development </p>\\n<p>* Education Level: None </p>\\n<p>* Work Remote: Yes </p>\\n<p>* Travel: No</p>\\n\", \"city\": \"Grand Junction\", \"state\": \"Colorado\", \"country\": \"United States\", \"location\": \"Grand Junction, Colorado\", \"function\": \"Business Services\", \"logo\": \"https://www.localjobs.com/sites/default/files/company_logos/logo_22.jpg\", \"jobtype\": \"Full time\", \"education\": null, \"experience\": null, \"salary\": null, \"requiredlanguages\": null, \"requiredskills\": null}\n",
      "{\"title\": \"Software Engineer\", \"company\": \"Leidos\", \"posted_date\": \"4/5/23\", \"job_reference\": \"11042150\", \"req_number\": \"3112\", \"url\": \"https://www.localjobs.com/job/columbia-md-software-engineer-7\", \"body\": \"<p>Description </p>\\n<p>Job Description:</p>\\n<p>Are you ready to work on projects that can potentially change the world? Join us at Leidos, where your most important work is ahead! You will enjoy great benefits such as 5 weeks of Paid Time Off, Flexible Schedules, Discounted Stock Purchase Plans, Education and Training Support, and more! If this sounds like the kind of place where you can thrive, keep reading!</p>\\n<p>The Leidos Intelligence Group has a career opportunity for a Software Engineer in the Columbia, MD area.</p>\\n<p>Program Summary</p>\\n<p>Leidos is a preferred subcontractor on a newly-awarded, large, multi-year contract that provides hardware and software sustainment of large IT systems. Contractors perform dataflow changes, lifecycle management including modernization of aging hardware and software, as well as system monitoring.</p>\\n<p>The work is extremely important to the government and offers its team members the opportunity to work autonomously and explore new technologies. We provide exceptional service to our customer in an area in which we have deep incumbent knowledge.</p>\\n<p>Job Summary</p>\\n<p>The Software Engineer develops, maintains, and enhances complex and diverse software systems (e.g., processing-intensive analytics, novel algorithm development, manipulation of extremely large data sets, real-time systems, and business management information systems) based upon documented requirements. Works individually or as part of a team. Reviews and tests software components for adherence to the design requirements and documents test results. Resolves software problem reports. Utilizes software development and software design methodologies appropriate to the development environment. Provides specific input to the software components of system design to include hardware/software trade-offs, software reuse, use of Commercial Off-the-shelf (COTS)/Government Off-the-shelf (GOTS) in place of new development, and requirements analysis and synthesis from system level to individual software components. The ideal candidate for this position will have experience with object-oriented programing languages, GNU, Software Defined Radio (SDR), ELK/Elasticsearch.</p>\\n<p>Required Qualifications</p>\\n<p>+ Fourteen (14) years experience as a Software Engineer, in programs and contracts of similar scope, type, and complexity.</p>\\n<p>+ Bachelor\\u2019s degree in Computer Science or related discipline from an accredited college or university. Four (4) years of additional SWE experience on projects with similar software processes may be substituted for a bachelor\\u2019s degree.</p>\\n<p>+ TS/SCI with Polygraph</p>\\n<p>+ Experience with:</p>\\n<p>+ Object-oriented programing languages</p>\\n<p>+ GNU</p>\\n<p>+ Software Defined Radio (SDR)</p>\\n<p>+ ELK/Elasticsearch</p>\\n<p>CONMD</p>\\n<p>KQW</p>\\n<p>Pay Range:Pay Range $118,300.00 - $182,000.00 - $245,700.00</p>\\n<p> The Leidos pay range for this job level is a general guideline onlyand not a guarantee of compensation or salary. Additional factors considered in extending an offer include (but are not limited to) responsibilities of the job, education, experience, knowledge, skills, and abilities, as well as internal equity, alignment with market data, applicable bargaining agreement (if any), or other law. </p>\\n<p> REQNUMBER: R-00108383</p>\\n<p>All qualified applicants will receive consideration for employment without regard to race, color, religion, sex, sexual orientation, gender identity, national origin, disability or veteran status. Leidos will consider qualified applicants with criminal histories for employment in accordance with relevant Laws. Leidos is an equal opportunity employer/disability/vet.</p>\\n\", \"city\": \"Columbia\", \"state\": \"Maryland\", \"country\": \"United States\", \"location\": \"Columbia, Maryland\", \"function\": \"Software Engineer\", \"logo\": \"https://www.localjobs.com/sites/default/files/company_logos/logo_200x200.png\", \"jobtype\": \"Full time\", \"education\": null, \"experience\": null, \"salary\": null, \"requiredlanguages\": null, \"requiredskills\": null}\n",
      "{\"title\": \"ServiceNow Software Engineer\", \"company\": \"Allied Universal\", \"posted_date\": \"3/8/23\", \"job_reference\": \"10778079\", \"req_number\": \"3518\", \"url\": \"https://www.localjobs.com/job/houston-tx-servicenow-software-engineer-2\", \"body\": \"<p>When you join Allied Universal\\u00ae Technology Services, you are joining one of the fastest growing security systems integrators in North America. Build your career within a fast-paced, dynamic, and diverse environment that combines leading-edge technology solutions - electronic access control, video surveillance, alarm monitoring, emergency communications, robotics, drones, and other smart tech innovative solutions - with physical security solutions to safeguard our clients and our communities.</p>\\n<p>Allied Universal\\u00ae Technology Services, an Allied Universal\\u00ae Company, is hiring a Applications Software Engineer. The Applications Software Engineer will provide new programs, program changes, and problem resolution for Allied Universal Technology Services systems with a focus on ServiceNow applications and development tools.  This individual will design, develop, and support customizations, integrations, and custom applications in the Allied Universal business applications environment.</p>\\n<p>The ideal candidate shall have experience in, and knowledge of the development processes and programming languages required for ServiceNow management and experience in SAP Cloud Studio or other SDK solutions.</p>\\n<p>**RESPONSIBILITIES:**</p>\\n<p>+ Independently develop, modify, test, and implement software solutions based on business requirements</p>\\n<p>+ Prepare technical design documentation based on functional requirements</p>\\n<p>+ Develop ServiceNow software solutions and integrations using JavaScript, REST API, HTML, Relational Databases, Import Sets, Transform Maps, Flow Designer, Business Rules, and UI Actions</p>\\n<p>+ Expand technical experience in ServiceNow Service Portal, Mobile Applications and Domains</p>\\n<p>+ Leverage current technical expertise for integration and development with other application platforms and custom development tools</p>\\n<p>+ Independently research and resolve technical problems</p>\\n<p>+ Work with ServiceNow business analyst, application business analysts and end users to understand functional requirements</p>\\n<p>+ Maintain existing technical solutions</p>\\n<p>+ Design, extend, and maintain relational databases as needed</p>\\n<p>+ Manage and execute to change control processes</p>\\n<p>+ Prepare feasibility and alternatives analyses</p>\\n<p>+ Validate implementation plan timelines and efforts as required</p>\\n<p>**QUALIFICATIONS:**</p>\\n<p>+ Must possess one or more of the following:</p>\\n<p>+ Bachelor\\u2019s degree in Computer Science, Engineering, another related major</p>\\n<p>+ Associate\\u2019s degree in Computer Science, Engineering, another related major with five (5) years of software development experience</p>\\n<p>+ High school diploma with seven (7) years of software development experience</p>\\n<p>+ Minimum of three (3) years of software development experience in packaged business applications, cloud solutions or other SDKs</p>\\n<p>+ Minimum of one (1) year of development experience in ServiceNow</p>\\n<p>+ Ability to make technical decisions and work independently</p>\\n<p>+ Ability to take initiative and successfully handle multiple assignments</p>\\n<p>+ Effectively manage to deadlines</p>\\n<p>+ Effective oral and written communication</p>\\n<p>+ Proficiency with Microsoft Office Applications</p>\\n<p>+ Assess and evaluate situations effectively</p>\\n<p>+ Identify critical issues quickly and accurately</p>\\n<p>**PREFERRED QUALIFICATIONS:**</p>\\n<p>+ Experience with ServiceNow or other system administration and development operations is a plus</p>\\n<p>**Allied Universal\\u00ae is an Equal Opportunity Employer.**  All qualified applicants will receive consideration for employment without regard to race/ethnicity, age, color, religion, sex, sexual orientation, gender identity, national origin, genetic information, disability, protected veteran status or relationship/association with a protected veteran, or any other basis or characteristic protected by law. For more information:  <a href=\\\"http://www.aus.com\\\">www.aus.com</a></p>\\n<p>If you have any questions regarding Equal Employment Opportunity, Affirmative Action, Diversity and Inclusion, have difficulty using the online system and require an alternate method to apply, or require an accommodation at any time during the recruitment and/or employment process, please contact our local Human Resources department. To find an office near you, please visit:  <a href=\\\"http://www.aus.com/offices\\\">www.aus.com/offices</a> .</p>\\n<p>**Allied Universal\\u00ae is an Equal Opportunity Employer.**  All qualified applicants will receive consideration for employment without regard to race/ethnicity, age, color, religion, sex, sexual orientation, gender identity, national origin, genetic information, disability, protected veteran status or relationship/association with a protected veteran, or any other basis or characteristic protected by law. For more information:  <a href=\\\"http://www.aus.com\\\">www.aus.com</a></p>\\n<p>If you have any questions regarding Equal Employment Opportunity, Affirmative Action, Diversity and Inclusion, have difficulty using the online system and require an alternate method to apply, or require an accommodation at any time during the recruitment and/or employment process, please contact our local Human Resources department. To find an office near you, please visit:  <a href=\\\"http://www.aus.com/offices\\\">www.aus.com/offices</a> .</p>\\n<p>**Job ID:**  2023-983870-3</p>\\n<p>**Location:**  United States-Texas-Houston</p>\\n<p>**Job Category:**  Information Technology</p>\\n\", \"city\": \"Houston\", \"state\": \"Texas\", \"country\": \"United States\", \"location\": \"Houston, Texas\", \"function\": \"Software Engineer\", \"logo\": \"https://www.localjobs.com/sites/default/files/company_logos/logo_23.jpg\", \"jobtype\": \"Full time\", \"education\": null, \"experience\": null, \"salary\": null, \"requiredlanguages\": null, \"requiredskills\": null}\n",
      "{\"title\": \"Open Source Principal Software and Systems Technologist\", \"company\": \"Intel Corporation\", \"posted_date\": \"9/4/22\", \"job_reference\": \"8599914\", \"req_number\": \"3877\", \"url\": \"https://www.localjobs.com/job/concord-ca-open-source-principal-software-and-systems-technologist\", \"body\": \"<p>**Job Description**</p>\\n<p>About the Group:</p>\\n<p>Intel is undergoing a significant business transformation, making it among the biggest, most highly watched business reinventions ever. Our customers and partners trust that we bring the highest level of engineering and manufacturing excellence, invention, insight, and service and continue to be on the leading edge of technological breakthroughs that create new capabilities and categories, transform industries, and improve lives.</p>\\n<p>Intel now operates in a wider competitive set, with growing capabilities and new entrants whose innovation, investment, and momentum shift Intel's position from an industry incumbent to a challenger brand. We are sharpening our focus as a company to deliver leadership products in every category in which we compete. IT has a critical role to play as we help our business partners drive the capabilities they need, and help our customers transform their businesses for the future.</p>\\n<p>About the role:</p>\\n<p>Intel Corporate Strategy Office has a mission to Inform and guide Intel's executive staff on best-in-class Information Systems practices and trends and recommend actionable operational targets.</p>\\n<p>As Open Source Principal Software Technologist, you will help drive some of Intel's highest-consequence strategic undertakings....while covering the enormous topic of software writ large. While Intel has historically had impressive talent depth around low-level platform software, our hope is that you will bring technical aptitude higher up the stack to complement Intel's historical strengths. You will be keeping a pulse on external innovation, informing and advising Intel's executive community on the latest software trends. A particular emphasis on the Open Source community will be important for success. Your work will inform and influence corporate strategy on everything from investments, mergers and acquisitions, partnership, and technical strategies.</p>\\n<p>In this role, you will:</p>\\n<p>+ Develop industry scan and competitive technical analysis per CSO needs</p>\\n<p>+ Inform and advise Intel's executive community on technology trends that will shape the future of the industry</p>\\n<p>+ Ensure that business analysis for ICAP/Intel Strategy is grounded in a strong technological understanding</p>\\n<p>+ Work with multiple business units-from our Software and Advanced Technology Group to the Data Center and Artificial Intelligence Group to the Sales and Marketing Group-to help inform and adopt strategy</p>\\n<p>+ Participate in industry forums and technical committees, synthesize secondary data looking for trends and insights, identify and close gaps in the collective knowledge base</p>\\n<p>+ Identify key operational challenges, develop insights, strategies, methodologies and systems to resolve</p>\\n<p>A successful candidate will exhibit the following behavioral traits:</p>\\n<p>+ Comfortable navigating ambiguity and adapting to dynamic, shifting priorities</p>\\n<p>+ Demonstrated analytical, communication, and influencing skills</p>\\n<p>+ Comfortable influencing at the VP/Senior Executive/Fellow level across the entire organization including and up to the CEO.</p>\\n<p>In addition to considering candidates across the US for this position, this role can also be performed out of our location in Israel.</p>\\n<p>**Qualifications**</p>\\n<p>+ Bachelor\\u2019s Degree in computer science or similar, Master\\u2019s or PhD in Computers Science preferred.</p>\\n<p>+ 15+ years first-hand experience driving software creation, transformation, and/or adoption  internally and externally through commercial products and/or open-source projects.</p>\\n<p>+ 5+ years of experience making platform decisions or consultative recommendations for deployment of large-scale projects</p>\\n<p>+ Experience ramping and upskilling quickly on tight timelines</p>\\n<p>**Inside this Business Group**</p>\\n<p>Corporate Strategy Office is chartered to support the executive office in driving corporate initiatives, including near and long-term strategy, major cross-group decision making and ensuring cross-company alignment.  To deliver to that mission, the team owns shaping, driving and synthesizing insights to directionally orient trends as well as long range strategic planning/visioning , cross company alignment and greenfield innovation.  Communications are essential to drive alignment so there is a focus on communications, community and acumen development.  The team is ccommitted to ensuring that Intel efforts are aligned to, and actively driving success toward the most impactful business strategies.</p>\\n<p>**Covid Statement**</p>\\n<p>Intel strongly encourages employees to be vaccinated against COVID-19.  Intel aligns to federal, state, and local laws and as a contractor to the U.S. Government is subject to government mandates that may be issued.  Intel policies for COVID-19 including guidance about testing and vaccination are subject to change over time.</p>\\n<p>**Posting Statement**</p>\\n<p>All qualified applicants will receive consideration for employment without regard to race, color, religion, religious creed, sex, national origin, ancestry, age, physical or mental disability, medical condition, genetic information, military and veteran status, marital status, pregnancy, gender, gender expression, gender identity, sexual orientation, or any other characteristic protected by local law, regulation, or ordinance.</p>\\n<p>**Benefits**</p>\\n<p>We offer a total compensation package that ranks among the best in the industry. It consists of competitive pay, stock, bonuses, as well as, benefit programs which include health, retirement, and vacation.  Find more information about all of our Amazing Benefits here:  <a href=\\\"https://www.intel.com/content/www/us/en/jobs/benefits.html\\\">https://www.intel.com/content/www/us/en/jobs/benefits.html</a></p>\\n<p>Annual Salary Range for jobs which could be performed in US, Colorado, New York, Washington, California: $211,730.00-$339,050.00</p>\\n<p>*Salary range dependent on a number of factors including location and experience</p>\\n<p>**Working Model**</p>\\n<p>This role is available as a fully home-based and generally would require you to attend Intel sites only occasionally based on business need. This role may also be available as our hybrid work model which allows employees to split their time between working on-site at their assigned Intel site and off-site.  **In certain circumstances the work model may change to accommodate business needs.**</p>\\n<p>**Position of Trust**</p>\\n<p>This role is a Position of Trust. Should you accept this position, you must consent to and pass an extended Background Investigation, which includes (subject to country law), extended education, SEC sanctions, and additional criminal and civil checks. For internals, this investigation may or may not be completed prior to starting the position. For additional questions, please contact your Recruiter.</p>\\n\", \"city\": \"Concord\", \"state\": \"California\", \"country\": \"United States\", \"location\": \"Concord, California\", \"function\": \"Manufacturing\", \"logo\": \"https://www.localjobs.com/sites/default/files/company_logos/logo_38.jpg\", \"jobtype\": \"Full time\", \"education\": null, \"experience\": null, \"salary\": null, \"requiredlanguages\": null, \"requiredskills\": null}\n"
     ]
    }
   ],
   "source": [
    "for neighbor in neighbors[0]:\n",
    "    print(strings[neighbor])"
   ]
  },
  {
   "cell_type": "code",
   "execution_count": null,
   "metadata": {},
   "outputs": [],
   "source": [
    "from faiss import write_index, read_index\n",
    "write_index(index, \"large.index\")\n",
    "index = read_index(\"large.index\")"
   ]
  },
  {
   "cell_type": "code",
   "execution_count": 18,
   "metadata": {},
   "outputs": [],
   "source": [
    "import pickle\n",
    "import os\n",
    "\n",
    "from langchain.embeddings.base import Embeddings\n",
    "\n",
    "from dotenv import load_dotenv\n",
    "\n",
    "load_dotenv()  # Load environment variables from .env file\n",
    "\n",
    "\n",
    "def save_embeddings(\n",
    "    embeddings: Embeddings,\n",
    "    saving_embeddings_file_name: str = os.getenv(\"SAVING_EMBEDDINGS_FILE_NAME\"),\n",
    "    saving_embeddings_directory: str = os.getenv(\"SAVING_EMBEDDINGS_DIRECTORY\"),\n",
    ") -> None:\n",
    "    \"\"\"\n",
    "    Save embeddings to a binary file with the specified file name and directory path.\n",
    "\n",
    "    Args:\n",
    "        - embeddings (Embeddings): The embeddings to be saved.\n",
    "        - saving_embeddings_file_name (str): The name of the file to save the embeddings to.\n",
    "        - saving_embeddings_directory (str): The path to the directory where the file will be saved.\n",
    "\n",
    "    Returns:\n",
    "        - None\n",
    "    \"\"\"\n",
    "\n",
    "    directory = os.path.join(os.getcwd(), saving_embeddings_directory)\n",
    "    if not os.path.exists(directory):\n",
    "        os.makedirs(directory)\n",
    "    file_path = os.path.join(directory, saving_embeddings_file_name + \".pkl\")\n",
    "\n",
    "    # Save embeddings to binary file\n",
    "    with open(file_path, \"wb\") as f:\n",
    "        pickle.dump(embeddings, f)"
   ]
  },
  {
   "cell_type": "code",
   "execution_count": 20,
   "metadata": {},
   "outputs": [],
   "source": [
    "save_embeddings(doc_result, saving_embeddings_file_name=\"saved_embeddings\", saving_embeddings_directory=\"../embeddings\")"
   ]
  },
  {
   "cell_type": "code",
   "execution_count": 23,
   "metadata": {},
   "outputs": [],
   "source": [
    "def load_embeddings(embeddings_path) -> Embeddings:\n",
    "    \"\"\"\n",
    "    Loads embeddings from the specified file path using pickle.\n",
    "\n",
    "    Args:\n",
    "        - embeddings_path (str): Path to file containing embeddings.\n",
    "\n",
    "    Returns:\n",
    "        - Embeddings: Loaded embeddings.\n",
    "    \"\"\"\n",
    "\n",
    "    with open(embeddings_path, \"rb\") as f:\n",
    "        embeddings: Embeddings = pickle.load(f)\n",
    "\n",
    "    return embeddings"
   ]
  },
  {
   "cell_type": "code",
   "execution_count": 24,
   "metadata": {},
   "outputs": [],
   "source": [
    "loaded_embeddings = load_embeddings(\"../embeddings/saved_embeddings.pkl\")"
   ]
  }
 ],
 "metadata": {
  "kernelspec": {
   "display_name": ".venv",
   "language": "python",
   "name": "python3"
  },
  "language_info": {
   "codemirror_mode": {
    "name": "ipython",
    "version": 3
   },
   "file_extension": ".py",
   "mimetype": "text/x-python",
   "name": "python",
   "nbconvert_exporter": "python",
   "pygments_lexer": "ipython3",
   "version": "3.10.8"
  },
  "orig_nbformat": 4
 },
 "nbformat": 4,
 "nbformat_minor": 2
}
